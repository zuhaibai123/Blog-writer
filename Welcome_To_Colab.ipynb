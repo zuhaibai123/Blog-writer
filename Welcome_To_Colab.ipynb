{
  "cells": [
    {
      "cell_type": "markdown",
      "metadata": {
        "id": "view-in-github",
        "colab_type": "text"
      },
      "source": [
        "<a href=\"https://colab.research.google.com/github/zuhaibai123/Blog-writer/blob/main/Welcome_To_Colab.ipynb\" target=\"_parent\"><img src=\"https://colab.research.google.com/assets/colab-badge.svg\" alt=\"Open In Colab\"/></a>"
      ]
    },
    {
      "cell_type": "code",
      "source": [
        "import openai\n",
        "openai.api_key=\"\"\n",
        "\n",
        "def blog(topic):\n",
        "  messages=[\n",
        "\n",
        "      {\"role\"  : \"system\" , \"content\" : \"\"\"you are trained to write blogs on the topic that is given to you . The blog must consist of two to\n",
        "                                          three paragraphes if you are not sure about the topic tell the the user to check manually\"\"\"}\n",
        "     {\"role\"  : \"user\" , \"content\" : f\"analyze the given topic to you and write a blog on the topic in two to three paragraphes.{topic}\"}\n",
        "  ]\n",
        "  response=openai.ChatCompletion.create(\n",
        "      model=\"gpt-3.5-turbo\",\n",
        "      messages=messages,\n",
        "      n=1,\n",
        "      max_tokens=200,\n",
        "      stop=None,\n",
        "      temperature=0.5\n",
        "  )\n",
        "\n",
        "  response_text=response.choices[0].messages.content.strip().lower()\n",
        "  return response_text\n",
        "\n",
        "\n",
        "\n",
        "  topic=\"Football\"\n",
        "  result=blog(topic)\n",
        "  print(result)"
      ],
      "metadata": {
        "id": "dMv-wKe-6r2L"
      },
      "execution_count": null,
      "outputs": []
    }
  ],
  "metadata": {
    "colab": {
      "name": "Welcome To Colab",
      "toc_visible": true,
      "provenance": [],
      "include_colab_link": true
    },
    "kernelspec": {
      "display_name": "Python 3",
      "name": "python3"
    }
  },
  "nbformat": 4,
  "nbformat_minor": 0
}